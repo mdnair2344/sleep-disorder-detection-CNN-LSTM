{
  "nbformat": 4,
  "nbformat_minor": 0,
  "metadata": {
    "colab": {
      "provenance": []
    },
    "kernelspec": {
      "name": "python3",
      "display_name": "Python 3"
    },
    "language_info": {
      "name": "python"
    }
  },
  "cells": [
    {
      "cell_type": "code",
      "source": [
        "!pip install flask\n",
        "!pip install flask-ngrok\n",
        "!pip install mne"
      ],
      "metadata": {
        "colab": {
          "base_uri": "https://localhost:8080/"
        },
        "id": "n0THVk6G0Vrj",
        "outputId": "686fa6d4-e402-43ba-c451-12c1560a70ce"
      },
      "execution_count": 8,
      "outputs": [
        {
          "output_type": "stream",
          "name": "stdout",
          "text": [
            "Requirement already satisfied: flask in /usr/local/lib/python3.11/dist-packages (3.1.1)\n",
            "Requirement already satisfied: blinker>=1.9.0 in /usr/local/lib/python3.11/dist-packages (from flask) (1.9.0)\n",
            "Requirement already satisfied: click>=8.1.3 in /usr/local/lib/python3.11/dist-packages (from flask) (8.2.1)\n",
            "Requirement already satisfied: itsdangerous>=2.2.0 in /usr/local/lib/python3.11/dist-packages (from flask) (2.2.0)\n",
            "Requirement already satisfied: jinja2>=3.1.2 in /usr/local/lib/python3.11/dist-packages (from flask) (3.1.6)\n",
            "Requirement already satisfied: markupsafe>=2.1.1 in /usr/local/lib/python3.11/dist-packages (from flask) (3.0.2)\n",
            "Requirement already satisfied: werkzeug>=3.1.0 in /usr/local/lib/python3.11/dist-packages (from flask) (3.1.3)\n",
            "Collecting flask-ngrok\n",
            "  Downloading flask_ngrok-0.0.25-py3-none-any.whl.metadata (1.8 kB)\n",
            "Requirement already satisfied: Flask>=0.8 in /usr/local/lib/python3.11/dist-packages (from flask-ngrok) (3.1.1)\n",
            "Requirement already satisfied: requests in /usr/local/lib/python3.11/dist-packages (from flask-ngrok) (2.32.3)\n",
            "Requirement already satisfied: blinker>=1.9.0 in /usr/local/lib/python3.11/dist-packages (from Flask>=0.8->flask-ngrok) (1.9.0)\n",
            "Requirement already satisfied: click>=8.1.3 in /usr/local/lib/python3.11/dist-packages (from Flask>=0.8->flask-ngrok) (8.2.1)\n",
            "Requirement already satisfied: itsdangerous>=2.2.0 in /usr/local/lib/python3.11/dist-packages (from Flask>=0.8->flask-ngrok) (2.2.0)\n",
            "Requirement already satisfied: jinja2>=3.1.2 in /usr/local/lib/python3.11/dist-packages (from Flask>=0.8->flask-ngrok) (3.1.6)\n",
            "Requirement already satisfied: markupsafe>=2.1.1 in /usr/local/lib/python3.11/dist-packages (from Flask>=0.8->flask-ngrok) (3.0.2)\n",
            "Requirement already satisfied: werkzeug>=3.1.0 in /usr/local/lib/python3.11/dist-packages (from Flask>=0.8->flask-ngrok) (3.1.3)\n",
            "Requirement already satisfied: charset-normalizer<4,>=2 in /usr/local/lib/python3.11/dist-packages (from requests->flask-ngrok) (3.4.3)\n",
            "Requirement already satisfied: idna<4,>=2.5 in /usr/local/lib/python3.11/dist-packages (from requests->flask-ngrok) (3.10)\n",
            "Requirement already satisfied: urllib3<3,>=1.21.1 in /usr/local/lib/python3.11/dist-packages (from requests->flask-ngrok) (2.5.0)\n",
            "Requirement already satisfied: certifi>=2017.4.17 in /usr/local/lib/python3.11/dist-packages (from requests->flask-ngrok) (2025.8.3)\n",
            "Downloading flask_ngrok-0.0.25-py3-none-any.whl (3.1 kB)\n",
            "Installing collected packages: flask-ngrok\n",
            "Successfully installed flask-ngrok-0.0.25\n",
            "Requirement already satisfied: mne in /usr/local/lib/python3.11/dist-packages (1.10.1)\n",
            "Requirement already satisfied: decorator in /usr/local/lib/python3.11/dist-packages (from mne) (4.4.2)\n",
            "Requirement already satisfied: jinja2 in /usr/local/lib/python3.11/dist-packages (from mne) (3.1.6)\n",
            "Requirement already satisfied: lazy-loader>=0.3 in /usr/local/lib/python3.11/dist-packages (from mne) (0.4)\n",
            "Requirement already satisfied: matplotlib>=3.7 in /usr/local/lib/python3.11/dist-packages (from mne) (3.10.0)\n",
            "Requirement already satisfied: numpy<3,>=1.25 in /usr/local/lib/python3.11/dist-packages (from mne) (2.0.2)\n",
            "Requirement already satisfied: packaging in /usr/local/lib/python3.11/dist-packages (from mne) (25.0)\n",
            "Requirement already satisfied: pooch>=1.5 in /usr/local/lib/python3.11/dist-packages (from mne) (1.8.2)\n",
            "Requirement already satisfied: scipy>=1.11 in /usr/local/lib/python3.11/dist-packages (from mne) (1.16.1)\n",
            "Requirement already satisfied: tqdm in /usr/local/lib/python3.11/dist-packages (from mne) (4.67.1)\n",
            "Requirement already satisfied: contourpy>=1.0.1 in /usr/local/lib/python3.11/dist-packages (from matplotlib>=3.7->mne) (1.3.3)\n",
            "Requirement already satisfied: cycler>=0.10 in /usr/local/lib/python3.11/dist-packages (from matplotlib>=3.7->mne) (0.12.1)\n",
            "Requirement already satisfied: fonttools>=4.22.0 in /usr/local/lib/python3.11/dist-packages (from matplotlib>=3.7->mne) (4.59.0)\n",
            "Requirement already satisfied: kiwisolver>=1.3.1 in /usr/local/lib/python3.11/dist-packages (from matplotlib>=3.7->mne) (1.4.9)\n",
            "Requirement already satisfied: pillow>=8 in /usr/local/lib/python3.11/dist-packages (from matplotlib>=3.7->mne) (11.3.0)\n",
            "Requirement already satisfied: pyparsing>=2.3.1 in /usr/local/lib/python3.11/dist-packages (from matplotlib>=3.7->mne) (3.2.3)\n",
            "Requirement already satisfied: python-dateutil>=2.7 in /usr/local/lib/python3.11/dist-packages (from matplotlib>=3.7->mne) (2.9.0.post0)\n",
            "Requirement already satisfied: platformdirs>=2.5.0 in /usr/local/lib/python3.11/dist-packages (from pooch>=1.5->mne) (4.3.8)\n",
            "Requirement already satisfied: requests>=2.19.0 in /usr/local/lib/python3.11/dist-packages (from pooch>=1.5->mne) (2.32.3)\n",
            "Requirement already satisfied: MarkupSafe>=2.0 in /usr/local/lib/python3.11/dist-packages (from jinja2->mne) (3.0.2)\n",
            "Requirement already satisfied: six>=1.5 in /usr/local/lib/python3.11/dist-packages (from python-dateutil>=2.7->matplotlib>=3.7->mne) (1.17.0)\n",
            "Requirement already satisfied: charset-normalizer<4,>=2 in /usr/local/lib/python3.11/dist-packages (from requests>=2.19.0->pooch>=1.5->mne) (3.4.3)\n",
            "Requirement already satisfied: idna<4,>=2.5 in /usr/local/lib/python3.11/dist-packages (from requests>=2.19.0->pooch>=1.5->mne) (3.10)\n",
            "Requirement already satisfied: urllib3<3,>=1.21.1 in /usr/local/lib/python3.11/dist-packages (from requests>=2.19.0->pooch>=1.5->mne) (2.5.0)\n",
            "Requirement already satisfied: certifi>=2017.4.17 in /usr/local/lib/python3.11/dist-packages (from requests>=2.19.0->pooch>=1.5->mne) (2025.8.3)\n"
          ]
        }
      ]
    },
    {
      "cell_type": "code",
      "source": [
        "from google.colab import drive\n",
        "drive.mount('/content/drive')\n",
        "\n",
        "# Then load model from drive path like:\n",
        "model_path = '/content/drive/MyDrive/final_model.h5'\n"
      ],
      "metadata": {
        "colab": {
          "base_uri": "https://localhost:8080/"
        },
        "id": "NqzlVE3pxKfc",
        "outputId": "7097fdd3-342e-42bc-b045-6603f622bc0f"
      },
      "execution_count": 6,
      "outputs": [
        {
          "output_type": "stream",
          "name": "stdout",
          "text": [
            "Drive already mounted at /content/drive; to attempt to forcibly remount, call drive.mount(\"/content/drive\", force_remount=True).\n"
          ]
        }
      ]
    },
    {
      "cell_type": "code",
      "source": [
        "!pip install pyngrok flask\n"
      ],
      "metadata": {
        "colab": {
          "base_uri": "https://localhost:8080/"
        },
        "id": "6SNxQKrVS_OW",
        "outputId": "24370b64-d783-4156-81f4-5d5c096bf846"
      },
      "execution_count": null,
      "outputs": [
        {
          "output_type": "stream",
          "name": "stdout",
          "text": [
            "Collecting pyngrok\n",
            "  Downloading pyngrok-7.3.0-py3-none-any.whl.metadata (8.1 kB)\n",
            "Requirement already satisfied: flask in /usr/local/lib/python3.11/dist-packages (3.1.1)\n",
            "Requirement already satisfied: PyYAML>=5.1 in /usr/local/lib/python3.11/dist-packages (from pyngrok) (6.0.2)\n",
            "Requirement already satisfied: blinker>=1.9.0 in /usr/local/lib/python3.11/dist-packages (from flask) (1.9.0)\n",
            "Requirement already satisfied: click>=8.1.3 in /usr/local/lib/python3.11/dist-packages (from flask) (8.2.1)\n",
            "Requirement already satisfied: itsdangerous>=2.2.0 in /usr/local/lib/python3.11/dist-packages (from flask) (2.2.0)\n",
            "Requirement already satisfied: jinja2>=3.1.2 in /usr/local/lib/python3.11/dist-packages (from flask) (3.1.6)\n",
            "Requirement already satisfied: markupsafe>=2.1.1 in /usr/local/lib/python3.11/dist-packages (from flask) (3.0.2)\n",
            "Requirement already satisfied: werkzeug>=3.1.0 in /usr/local/lib/python3.11/dist-packages (from flask) (3.1.3)\n",
            "Downloading pyngrok-7.3.0-py3-none-any.whl (25 kB)\n",
            "Installing collected packages: pyngrok\n",
            "Successfully installed pyngrok-7.3.0\n"
          ]
        }
      ]
    },
    {
      "cell_type": "code",
      "source": [
        "!ngrok config check"
      ],
      "metadata": {
        "colab": {
          "base_uri": "https://localhost:8080/"
        },
        "id": "vWRsQJa1cTJ_",
        "outputId": "17eef9f0-99e0-49f4-9d2a-a09b3d1d957d"
      },
      "execution_count": 10,
      "outputs": [
        {
          "output_type": "stream",
          "name": "stdout",
          "text": [
            "Valid configuration file at /root/.config/ngrok/ngrok.yml\n"
          ]
        }
      ]
    },
    {
      "cell_type": "code",
      "source": [
        "from flask import Flask\n",
        "from pyngrok import ngrok\n",
        "import threading\n",
        "\n",
        "app = Flask(__name__)\n",
        "\n",
        "@app.route('/')\n",
        "def home():\n",
        "    return \"Hello from Flask + ngrok!\"\n",
        "\n",
        "def run_app():\n",
        "    app.run(port=5000)\n",
        "\n",
        "# Start flask in a thread\n",
        "threading.Thread(target=run_app).start()\n",
        "\n",
        "# Open ngrok tunnel\n",
        "public_url = ngrok.connect(5000).public_url\n",
        "print(\"ngrok tunnel:\", public_url)\n"
      ],
      "metadata": {
        "colab": {
          "base_uri": "https://localhost:8080/"
        },
        "id": "gpDMlzYqTByB",
        "outputId": "55ee2ed6-1523-44a6-9502-a5bf49bf076f"
      },
      "execution_count": null,
      "outputs": [
        {
          "output_type": "stream",
          "name": "stdout",
          "text": [
            " * Serving Flask app '__main__'\n",
            " * Debug mode: off\n"
          ]
        },
        {
          "output_type": "stream",
          "name": "stderr",
          "text": [
            "Address already in use\n",
            "Port 5000 is in use by another program. Either identify and stop that program, or start the server with a different port.\n"
          ]
        },
        {
          "output_type": "stream",
          "name": "stdout",
          "text": [
            "ngrok tunnel: https://985113bb09a6.ngrok-free.app\n"
          ]
        }
      ]
    },
    {
      "cell_type": "code",
      "source": [
        "!fuser -k 5000/tcp\n"
      ],
      "metadata": {
        "id": "xugKS7qdTcaq"
      },
      "execution_count": 1,
      "outputs": []
    },
    {
      "cell_type": "code",
      "source": [
        "from tensorflow.keras.models import load_model\n",
        "import os\n",
        "\n",
        "model_path = \"/content/drive/MyDrive/final_model.h5\"\n",
        "\n",
        "if os.path.exists(model_path):\n",
        "    model = load_model(model_path)\n",
        "    print(\" Model loaded successfully\")\n",
        "else:\n",
        "    model = None\n",
        "    print(\" Model not found at\", model_path)\n"
      ],
      "metadata": {
        "colab": {
          "base_uri": "https://localhost:8080/"
        },
        "id": "N6GHT3Irw3wM",
        "outputId": "562c09f3-c9db-40b5-c080-885ee2ea4ad6"
      },
      "execution_count": 7,
      "outputs": [
        {
          "output_type": "stream",
          "name": "stdout",
          "text": [
            " Model loaded successfully\n"
          ]
        }
      ]
    },
    {
      "cell_type": "code",
      "source": [
        "# Install required packages (Colab-friendly; harmless elsewhere)\n",
        "!pip install flask pyngrok tensorflow mne scikit-learn flask-cors -q\n",
        "\n",
        "import os\n",
        "import time\n",
        "import threading\n",
        "import warnings\n",
        "import tempfile\n",
        "import numpy as np\n",
        "import mne\n",
        "\n",
        "from flask import Flask, request, jsonify\n",
        "from flask_cors import CORS\n",
        "from pyngrok import ngrok, conf\n",
        "from tensorflow.keras.models import load_model\n",
        "from absl.logging import set_verbosity, ERROR\n",
        "\n",
        "# Setup\n",
        "warnings.filterwarnings('ignore')\n",
        "set_verbosity(ERROR)\n",
        "\n",
        "app = Flask(__name__)\n",
        "CORS(app)\n",
        "\n",
        "#  CONFIG: update this path if needed (must exist)\n",
        "MODEL_PATH = \"/content/drive/MyDrive/final_model.h5\"\n",
        "TARGET_SFREQ = 100          # common training rate (adjust if yours differs)\n",
        "BANDPASS = (0.3, 35.0)      # Hz\n",
        "NOTCH = None                # set to 50 or 60 if your data needs it (e.g., 50 in EU)\n",
        "EPOCH_LEN_SEC = 30          # standard hypnogram epoch length\n",
        "\n",
        "model = None\n",
        "model_timesteps = None  # inferred from model.input_shape\n",
        "\n",
        "# Load ONLY your model (no fallbacks)\n",
        "try:\n",
        "    if os.path.exists(MODEL_PATH):\n",
        "        model = load_model(MODEL_PATH, compile=False)\n",
        "        print(\"Model loaded:\", MODEL_PATH)\n",
        "\n",
        "        # Infer timesteps from model input shape: (None, T, 1)\n",
        "        ish = model.input_shape\n",
        "        # ish can be a list in some multi-input models\n",
        "        if isinstance(ish, list):\n",
        "            ish = ish[0]\n",
        "        # ish example: (None, timesteps, channels)\n",
        "        if len(ish) >= 3:\n",
        "            model_timesteps = ish[1]\n",
        "            print(\"ℹ Model expects timesteps:\", model_timesteps, \"channels:\", ish[-1])\n",
        "        else:\n",
        "            print(\"Could not infer model timesteps from input_shape:\", ish)\n",
        "            model_timesteps = None\n",
        "    else:\n",
        "        print(f\"Model not found at: {MODEL_PATH}\")\n",
        "        model = None\n",
        "except Exception as e:\n",
        "    print(f\"Error loading model: {e}\")\n",
        "    model = None\n",
        "\n",
        "\n",
        "# --------- Sleep stage mapping used to select annotated epochs ----------\n",
        "stage_dict = {\n",
        "    'Sleep stage W': 0,\n",
        "    'Sleep stage 1': 1,\n",
        "    'Sleep stage 2': 2,\n",
        "    'Sleep stage 3': 3,\n",
        "    'Sleep stage 4': 4,\n",
        "    'Sleep stage R': 5\n",
        "}\n",
        "\n",
        "\n",
        "def _preprocess_epoch(epoch_1d, sfreq, target_sfreq):\n",
        "    \"\"\"\n",
        "    Per-epoch preprocessing:\n",
        "    - Bandpass 0.3–35 Hz (adjustable)\n",
        "    - Optional notch at 50/60 Hz\n",
        "    - Resample to target_sfreq\n",
        "    - Per-epoch z-score: (x - mean) / std\n",
        "    Returns epoch with shape (target_len,)\n",
        "    \"\"\"\n",
        "    sig = epoch_1d.astype(np.float32)\n",
        "\n",
        "    # Use an MNE RawArray to leverage high-quality filters\n",
        "    info = mne.create_info(ch_names=['EEG'], sfreq=sfreq, ch_types=['eeg'])\n",
        "    raw = mne.io.RawArray(sig[np.newaxis, :], info, verbose=False)\n",
        "\n",
        "    # Band-pass\n",
        "    raw.filter(BANDPASS[0], BANDPASS[1], fir_design='firwin', verbose=False)\n",
        "\n",
        "    # Notch (optional)\n",
        "    if NOTCH in (50, 60):\n",
        "        raw.notch_filter(freqs=[NOTCH], verbose=False)\n",
        "\n",
        "    # Resample if needed\n",
        "    if target_sfreq is not None and abs(raw.info['sfreq'] - target_sfreq) > 1e-6:\n",
        "        raw.resample(target_sfreq, npad=\"auto\", verbose=False)\n",
        "\n",
        "    x = raw.get_data()[0]\n",
        "    # Per-epoch z-score\n",
        "    m = np.mean(x)\n",
        "    s = np.std(x)\n",
        "    if s < 1e-7:\n",
        "        s = 1e-7\n",
        "    x = (x - m) / s\n",
        "    return x\n",
        "\n",
        "\n",
        "def _pad_or_crop(x, target_len):\n",
        "    \"\"\"Pad (reflect) or crop 1D array to target length.\"\"\"\n",
        "    n = x.shape[0]\n",
        "    if n == target_len:\n",
        "        return x\n",
        "    if n > target_len:\n",
        "        return x[:target_len]\n",
        "    # pad\n",
        "    pad = target_len - n\n",
        "    # reflect padding to avoid edges\n",
        "    left = pad // 2\n",
        "    right = pad - left\n",
        "    return np.pad(x, (left, right), mode='reflect')\n",
        "\n",
        "\n",
        "def extract_epochs_from_subject(psg_path, ann_path, channel_pick='EEG Fpz-Cz'):\n",
        "    \"\"\"\n",
        "    Returns ndarray of shape (n_epochs, samples) BEFORE channel-last expansion.\n",
        "    \"\"\"\n",
        "    try:\n",
        "        raw = mne.io.read_raw_edf(psg_path, preload=True, verbose=False)\n",
        "        annotations = mne.read_annotations(ann_path)\n",
        "        if annotations is None or len(annotations) == 0:\n",
        "            print(\" No annotations in hypnogram.\")\n",
        "            return np.array([])\n",
        "\n",
        "        raw.set_annotations(annotations)\n",
        "\n",
        "        # Channel selection with fallback\n",
        "        if channel_pick in raw.ch_names:\n",
        "            raw.pick_channels([channel_pick])\n",
        "        else:\n",
        "            raw.pick_types(eeg=True)\n",
        "            if len(raw.ch_names) == 0:\n",
        "                print(\" No EEG channels found.\")\n",
        "                return np.array([])\n",
        "\n",
        "        eeg = raw.get_data()[0]\n",
        "        sfreq = float(raw.info['sfreq'])\n",
        "        epoch_samples = int(round(EPOCH_LEN_SEC * sfreq))\n",
        "\n",
        "        epochs = []\n",
        "        # Loop through annotations and slice 30s epochs for known stages\n",
        "        for annot in annotations:\n",
        "            desc = annot['description']\n",
        "            if desc not in stage_dict:\n",
        "                continue\n",
        "            start = int(round(annot['onset'] * sfreq))\n",
        "            dur = int(round(annot['duration'] * sfreq))\n",
        "            # iterate in 30s chunks\n",
        "            for i in range(0, dur, epoch_samples):\n",
        "                a = start + i\n",
        "                b = a + epoch_samples\n",
        "                if b <= eeg.shape[0]:\n",
        "                    seg = eeg[a:b]\n",
        "                    if seg.shape[0] == epoch_samples:\n",
        "                        epochs.append(seg)\n",
        "\n",
        "        if not epochs:\n",
        "            return np.array([])\n",
        "\n",
        "        return np.stack(epochs, axis=0)  # (n_epochs, samples)\n",
        "    except Exception as e:\n",
        "        print(f\" Error processing EDF: {e}\")\n",
        "        return np.array([])\n",
        "\n",
        "\n",
        "def build_model_inputs(epochs_raw, raw_sfreq):\n",
        "    \"\"\"\n",
        "    - Preprocess each epoch\n",
        "    - Resample to TARGET_SFREQ\n",
        "    - Conform to model_timesteps (pad/crop)\n",
        "    - Expand channel dim -> (n, T, 1)\n",
        "    \"\"\"\n",
        "    if model_timesteps is None:\n",
        "        # If model doesn't specify, infer from first preprocessed epoch length\n",
        "        target_len = int(round(EPOCH_LEN_SEC * (TARGET_SFREQ or raw_sfreq)))\n",
        "    else:\n",
        "        target_len = model_timesteps\n",
        "\n",
        "    processed = []\n",
        "    for ep in epochs_raw:\n",
        "        x = _preprocess_epoch(ep, sfreq=raw_sfreq, target_sfreq=TARGET_SFREQ or raw_sfreq)\n",
        "        x = _pad_or_crop(x, target_len)\n",
        "        processed.append(x)\n",
        "\n",
        "    X = np.stack(processed, axis=0).astype(np.float32)  # (n, T)\n",
        "    X = X[..., np.newaxis]  # (n, T, 1)\n",
        "    return X, target_len\n",
        "\n",
        "\n",
        "@app.route('/')\n",
        "def home():\n",
        "    return \"Sleep Disorder Detection API is running.\"\n",
        "\n",
        "\n",
        "@app.route('/predict', methods=['POST'])\n",
        "def predict():\n",
        "    if model is None:\n",
        "        return jsonify({'error': 'Model not loaded'}), 500\n",
        "\n",
        "    if 'psgFile' not in request.files or 'hypnoFile' not in request.files:\n",
        "        return jsonify({'error': 'Missing files'}), 400\n",
        "\n",
        "    try:\n",
        "        with tempfile.TemporaryDirectory() as tmpdir:\n",
        "            psg_path = os.path.join(tmpdir, 'psg.edf')\n",
        "            hypno_path = os.path.join(tmpdir, 'hypnogram.edf')\n",
        "            request.files['psgFile'].save(psg_path)\n",
        "            request.files['hypnoFile'].save(hypno_path)\n",
        "\n",
        "            # Extract and preprocess\n",
        "            epochs_raw = extract_epochs_from_subject(psg_path, hypno_path)\n",
        "            if epochs_raw.size == 0:\n",
        "                return jsonify({'error': 'No valid epochs'}), 400\n",
        "\n",
        "            raw_tmp = mne.io.read_raw_edf(psg_path, preload=False, verbose=False)\n",
        "            raw_sfreq = float(raw_tmp.info['sfreq'])\n",
        "\n",
        "            X, T = build_model_inputs(epochs_raw, raw_sfreq)  # Ensure this matches training preprocessing exactly\n",
        "\n",
        "            # Predict probabilities\n",
        "            probs = model.predict(X, verbose=0).flatten()\n",
        "            epoch_labels = (probs >= 0.5).astype(int)  # threshold at 0.5\n",
        "            is_disordered = bool(np.mean(epoch_labels) > 0.5)  # majority voting\n",
        "\n",
        "            message = \"Likely abnormal sleep pattern.\" if is_disordered else \"Likely normal sleep pattern.\"\n",
        "\n",
        "            return jsonify({\n",
        "                'disorder_probability_mean': float(np.mean(probs)),\n",
        "                'is_disordered': is_disordered,\n",
        "                'epochs_processed': int(X.shape[0]),\n",
        "                'message': message\n",
        "            })\n",
        "\n",
        "    except Exception as e:\n",
        "        return jsonify({'error': 'Processing failed', 'details': str(e)}), 500\n",
        "\n",
        "\n",
        "\n",
        "@app.route('/interface')\n",
        "def web_interface():\n",
        "    # (your original HTML kept intact; only added Confidence + extra line)\n",
        "    return \"\"\"\n",
        "<!DOCTYPE html>\n",
        "<html lang=\"en\">\n",
        "<head>\n",
        "<meta charset=\"UTF-8\" />\n",
        "<meta name=\"viewport\" content=\"width=device-width, initial-scale=1\" />\n",
        "<title>Sleep Disorder Detection</title>\n",
        "<style>\n",
        "  * { box-sizing: border-box; }\n",
        "  body {\n",
        "    font-family: 'Segoe UI', Tahoma, Geneva, Verdana, sans-serif;\n",
        "    background: #f9faff; color: #333; margin: 0; padding: 20px;\n",
        "    display: flex; justify-content: center;\n",
        "  }\n",
        "  .container {\n",
        "    background: #fff; max-width: 500px; width: 100%;\n",
        "    border-radius: 10px; box-shadow: 0 8px 20px rgb(0 0 0 / 0.1);\n",
        "    padding: 30px 40px;\n",
        "  }\n",
        "  h1 { text-align: center; color: #2c3e50; margin-bottom: 10px; }\n",
        "  p.description { text-align: center; color: #6c7a89; margin-bottom: 30px; font-size: 1.1rem; }\n",
        "  form.upload-form { display: flex; flex-direction: column; gap: 20px; }\n",
        "  label { display: block; margin-bottom: 8px; font-weight: 600; color: #34495e; }\n",
        "  input[type=\"file\"] {\n",
        "    width: 100%; padding: 10px 12px; border: 2px solid #ccc; border-radius: 6px;\n",
        "    transition: border-color 0.3s ease; cursor: pointer;\n",
        "  }\n",
        "  input[type=\"file\"]:focus, input[type=\"file\"]:hover { border-color: #3498db; outline: none; }\n",
        "  button {\n",
        "    background: #3498db; border: none; padding: 12px 0; color: white; font-weight: 700;\n",
        "    border-radius: 8px; cursor: pointer; font-size: 1.1rem; transition: background-color 0.3s ease;\n",
        "  }\n",
        "  button:hover { background: #2980b9; }\n",
        "  .result { margin-top: 30px; padding: 20px 25px; border-radius: 8px; font-weight: 600; font-size: 1.15rem; display: none; }\n",
        "  .result.disordered { background-color: #ffe6e6; border-left: 6px solid #e74c3c; color: #c0392b; }\n",
        "  .result.normal { background-color: #e8f6e8; border-left: 6px solid #27ae60; color: #229954; }\n",
        "  .result h3 { margin-top: 0; margin-bottom: 10px; font-weight: 700; }\n",
        "  .loading { display: none; text-align: center; margin: 20px 0; }\n",
        "  .spinner {\n",
        "    border: 4px solid rgba(0, 0, 0, 0.1); width: 36px; height: 36px; border-radius: 50%;\n",
        "    border-left-color: #3498db; animation: spin 1s linear infinite; margin: 0 auto;\n",
        "  }\n",
        "  @keyframes spin { 0% { transform: rotate(0deg);} 100% { transform: rotate(360deg);} }\n",
        "  @media (max-width: 480px) { .container { padding: 20px; } }\n",
        "</style>\n",
        "</head>\n",
        "<body>\n",
        "  <div class=\"container\">\n",
        "    <h1>Sleep Disorder Detection</h1>\n",
        "    <p class=\"description\">Upload PSG and hypnogram files (EDF format) for analysis</p>\n",
        "\n",
        "    <form id=\"uploadForm\" class=\"upload-form\">\n",
        "      <div>\n",
        "        <label for=\"psgFile\">PSG File (EDF):</label>\n",
        "        <input type=\"file\" id=\"psgFile\" name=\"psgFile\" accept=\".edf\" required />\n",
        "      </div>\n",
        "      <div>\n",
        "        <label for=\"hypnoFile\">Hypnogram File (EDF):</label>\n",
        "        <input type=\"file\" id=\"hypnoFile\" name=\"hypnoFile\" accept=\".edf\" required />\n",
        "      </div>\n",
        "      <button type=\"submit\" id=\"analyzeBtn\">Analyze</button>\n",
        "    </form>\n",
        "\n",
        "    <div class=\"loading\" id=\"loadingIndicator\">\n",
        "      <div class=\"spinner\"></div>\n",
        "      <p>Processing your files...</p>\n",
        "    </div>\n",
        "\n",
        "    <div id=\"resultContainer\" class=\"result\">\n",
        "      <h3>Analysis Results</h3>\n",
        "      <p>Disorder Probability: <span id=\"probability\">0</span></p>\n",
        "      <p>Confidence: <span id=\"confidence\">0</span></p>\n",
        "      <p>Epochs Processed: <span id=\"epochCount\">0</span></p>\n",
        "      <p>Diagnosis: <span id=\"diagnosis\">-</span></p>\n",
        "      <p id=\"details\"></p>\n",
        "    </div>\n",
        "\n",
        "    <div id=\"errorContainer\" class=\"result\" style=\"display: none; background-color: #fff3cd; border-left: 6px solid #ffc107; color: #856404;\">\n",
        "      <h3>Error</h3>\n",
        "      <p id=\"errorMessage\"></p>\n",
        "      <p id=\"errorDetails\"></p>\n",
        "    </div>\n",
        "  </div>\n",
        "\n",
        "  <script>\n",
        "    document.getElementById('uploadForm').addEventListener('submit', async function(e) {\n",
        "      e.preventDefault();\n",
        "\n",
        "      document.getElementById('loadingIndicator').style.display = 'block';\n",
        "      document.getElementById('resultContainer').style.display = 'none';\n",
        "      document.getElementById('errorContainer').style.display = 'none';\n",
        "\n",
        "      const btn = document.getElementById('analyzeBtn');\n",
        "      btn.disabled = true; btn.textContent = 'Processing...';\n",
        "\n",
        "      try {\n",
        "        const fd = new FormData();\n",
        "        fd.append('psgFile', document.getElementById('psgFile').files[0]);\n",
        "        fd.append('hypnoFile', document.getElementById('hypnoFile').files[0]);\n",
        "\n",
        "        const res = await fetch('/predict', { method: 'POST', body: fd });\n",
        "        const data = await res.json();\n",
        "\n",
        "        if (res.ok) {\n",
        "          const resultDiv = document.getElementById('resultContainer');\n",
        "          document.getElementById('probability').textContent = (data.disorder_probability * 100).toFixed(2) + '%';\n",
        "          document.getElementById('confidence').textContent = (data.confidence * 100).toFixed(2) + '%';\n",
        "          document.getElementById('epochCount').textContent = data.epochs_processed;\n",
        "\n",
        "          if (data.is_disordered) {\n",
        "            document.getElementById('diagnosis').textContent = 'Sleep disorder detected';\n",
        "            resultDiv.className = 'result disordered';\n",
        "          } else {\n",
        "            document.getElementById('diagnosis').textContent = 'Normal sleep pattern';\n",
        "            resultDiv.className = 'result normal';\n",
        "          }\n",
        "\n",
        "          document.getElementById('details').textContent = data.message || '';\n",
        "          resultDiv.style.display = 'block';\n",
        "          document.getElementById('errorContainer').style.display = 'none';\n",
        "        } else {\n",
        "          const errDiv = document.getElementById('errorContainer');\n",
        "          document.getElementById('errorMessage').textContent = data.error || 'An error occurred';\n",
        "          document.getElementById('errorDetails').textContent = data.details || '';\n",
        "          errDiv.style.display = 'block';\n",
        "          document.getElementById('resultContainer').style.display = 'none';\n",
        "        }\n",
        "      } catch (err) {\n",
        "        const errDiv = document.getElementById('errorContainer');\n",
        "        document.getElementById('errorMessage').textContent = 'Network error';\n",
        "        document.getElementById('errorDetails').textContent = err.message;\n",
        "        errDiv.style.display = 'block';\n",
        "        document.getElementById('resultContainer').style.display = 'none';\n",
        "      } finally {\n",
        "        document.getElementById('loadingIndicator').style.display = 'none';\n",
        "        btn.disabled = false; btn.textContent = 'Analyze';\n",
        "        const visible = document.getElementById('resultContainer').style.display === 'block'\n",
        "          ? 'resultContainer' : 'errorContainer';\n",
        "        document.getElementById(visible).scrollIntoView({ behavior: 'smooth' });\n",
        "      }\n",
        "    });\n",
        "  </script>\n",
        "</body>\n",
        "</html>\n",
        "    \"\"\"\n",
        "\n",
        "\n",
        "def run_flask():\n",
        "    app.run(host='0.0.0.0', port=5000, debug=False, threaded=True)\n",
        "\n",
        "\n",
        "if __name__ == '__main__':\n",
        "    # Kill any previous server on 5000 (works on Colab)\n",
        "    os.system('fuser -k 5000/tcp 2>/dev/null || true')\n",
        "\n",
        "    # Ngrok region (adjust as needed)\n",
        "    conf.get_default().region = \"us\"\n",
        "\n",
        "    # Start Flask in a background thread\n",
        "    flask_thread = threading.Thread(target=run_flask, daemon=True)\n",
        "    flask_thread.start()\n",
        "\n",
        "    # Wait for the server\n",
        "    time.sleep(3)\n",
        "\n",
        "    try:\n",
        "        public_url = ngrok.connect(5000, bind_tls=True).public_url\n",
        "        print(f\"\\n Web Interface URL: {public_url}/interface\")\n",
        "        print(f\" API Endpoint: {public_url}/predict\")\n",
        "        print(\"\\nKeep this Colab tab open to maintain the connection!\")\n",
        "    except Exception as e:\n",
        "        print(f\" Ngrok error: {e}\")\n",
        "        print(\"Try accessing via local URL: http://127.0.0.1:5000/interface\")\n"
      ],
      "metadata": {
        "id": "MrYD-tRVlu5I",
        "colab": {
          "base_uri": "https://localhost:8080/"
        },
        "outputId": "33d02faa-dbd7-4317-dbad-bc9ef0b152a8"
      },
      "execution_count": 1,
      "outputs": [
        {
          "output_type": "stream",
          "name": "stdout",
          "text": [
            "Model loaded: /content/drive/MyDrive/final_model.h5\n",
            "ℹ Model expects timesteps: 750 channels: 1\n",
            " * Serving Flask app '__main__'\n",
            " * Debug mode: off\n"
          ]
        },
        {
          "output_type": "stream",
          "name": "stderr",
          "text": [
            "INFO:werkzeug:\u001b[31m\u001b[1mWARNING: This is a development server. Do not use it in a production deployment. Use a production WSGI server instead.\u001b[0m\n",
            " * Running on all addresses (0.0.0.0)\n",
            " * Running on http://127.0.0.1:5000\n",
            " * Running on http://172.28.0.12:5000\n",
            "INFO:werkzeug:\u001b[33mPress CTRL+C to quit\u001b[0m\n",
            "WARNING:pyngrok.process.ngrok:t=2025-08-14T16:47:02+0000 lvl=warn msg=\"can't bind default web address, trying alternatives\" obj=web addr=127.0.0.1:4040\n",
            "ERROR:pyngrok.process.ngrok:t=2025-08-14T16:47:02+0000 lvl=eror msg=\"failed to reconnect session\" obj=tunnels.session err=\"authentication failed: Your account is limited to 1 simultaneous ngrok agent sessions.\\nYou can run multiple simultaneous tunnels from a single agent session by defining the tunnels in your agent configuration file and starting them with the command `ngrok start --all`.\\nRead more about the agent configuration file: https://ngrok.com/docs/secure-tunnels/ngrok-agent/reference/config\\nYou can view your current agent sessions in the dashboard:\\nhttps://dashboard.ngrok.com/agents\\r\\n\\r\\nERR_NGROK_108\\r\\n\"\n",
            "ERROR:pyngrok.process.ngrok:t=2025-08-14T16:47:02+0000 lvl=eror msg=\"session closing\" obj=tunnels.session err=\"authentication failed: Your account is limited to 1 simultaneous ngrok agent sessions.\\nYou can run multiple simultaneous tunnels from a single agent session by defining the tunnels in your agent configuration file and starting them with the command `ngrok start --all`.\\nRead more about the agent configuration file: https://ngrok.com/docs/secure-tunnels/ngrok-agent/reference/config\\nYou can view your current agent sessions in the dashboard:\\nhttps://dashboard.ngrok.com/agents\\r\\n\\r\\nERR_NGROK_108\\r\\n\"\n"
          ]
        },
        {
          "output_type": "stream",
          "name": "stdout",
          "text": [
            " Ngrok error: The ngrok process errored on start: authentication failed: Your account is limited to 1 simultaneous ngrok agent sessions.\\nYou can run multiple simultaneous tunnels from a single agent session by defining the tunnels in your agent configuration file and starting them with the command `ngrok start --all`.\\nRead more about the agent configuration file: https://ngrok.com/docs/secure-tunnels/ngrok-agent/reference/config\\nYou can view your current agent sessions in the dashboard:\\nhttps://dashboard.ngrok.com/agents\\r\\n\\r\\nERR_NGROK_108\\r\\n.\n",
            "Try accessing via local URL: http://127.0.0.1:5000/interface\n"
          ]
        }
      ]
    },
    {
      "cell_type": "code",
      "source": [
        "import requests\n",
        "print(requests.get(\"https://d8b71696a6f6.ngrok-free.app\").text)\n",
        "# Should return \"Sleep Disorder Detection API is running.\""
      ],
      "metadata": {
        "colab": {
          "base_uri": "https://localhost:8080/"
        },
        "id": "yZ4VTvfBdXxs",
        "outputId": "9382c0ce-4b15-4bdb-d1bf-478f33c98efa"
      },
      "execution_count": 4,
      "outputs": [
        {
          "output_type": "stream",
          "name": "stdout",
          "text": [
            "<!DOCTYPE html>\n",
            "<html class=\"h-full\" lang=\"en-US\" dir=\"ltr\">\n",
            "  <head>\n",
            "    <link rel=\"preload\" href=\"https://cdn.ngrok.com/static/fonts/euclid-square/EuclidSquare-Regular-WebS.woff\" as=\"font\" type=\"font/woff\" crossorigin=\"anonymous\" />\n",
            "    <link rel=\"preload\" href=\"https://cdn.ngrok.com/static/fonts/euclid-square/EuclidSquare-RegularItalic-WebS.woff\" as=\"font\" type=\"font/woff\" crossorigin=\"anonymous\" />\n",
            "    <link rel=\"preload\" href=\"https://cdn.ngrok.com/static/fonts/euclid-square/EuclidSquare-Medium-WebS.woff\" as=\"font\" type=\"font/woff\" crossorigin=\"anonymous\" />\n",
            "    <link rel=\"preload\" href=\"https://cdn.ngrok.com/static/fonts/euclid-square/EuclidSquare-Semibold-WebS.woff\" as=\"font\" type=\"font/woff\" crossorigin=\"anonymous\" />\n",
            "    <link rel=\"preload\" href=\"https://cdn.ngrok.com/static/fonts/euclid-square/EuclidSquare-MediumItalic-WebS.woff\" as=\"font\" type=\"font/woff\" crossorigin=\"anonymous\" />\n",
            "    <link rel=\"preload\" href=\"https://cdn.ngrok.com/static/fonts/ibm-plex-mono/IBMPlexMono-Text.woff\" as=\"font\" type=\"font/woff\" crossorigin=\"anonymous\" />\n",
            "    <link rel=\"preload\" href=\"https://cdn.ngrok.com/static/fonts/ibm-plex-mono/IBMPlexMono-TextItalic.woff\" as=\"font\" type=\"font/woff\" crossorigin=\"anonymous\" />\n",
            "    <link rel=\"preload\" href=\"https://cdn.ngrok.com/static/fonts/ibm-plex-mono/IBMPlexMono-SemiBold.woff\" as=\"font\" type=\"font/woff\" crossorigin=\"anonymous\" />\n",
            "    <link rel=\"preload\" href=\"https://cdn.ngrok.com/static/fonts/ibm-plex-mono/IBMPlexMono-SemiBoldItalic.woff\" as=\"font\" type=\"font/woff\" crossorigin=\"anonymous\" />\n",
            "    <meta charset=\"utf-8\">\n",
            "    <meta name=\"author\" content=\"ngrok\">\n",
            "    <meta name=\"description\" content=\"ngrok is the fastest way to put anything on the internet with a single command.\">\n",
            "    <meta name=\"robots\" content=\"noindex, nofollow\">\n",
            "    <meta name=\"viewport\" content=\"width=device-width, initial-scale=1\">\n",
            "    <link id=\"style\" rel=\"stylesheet\" href=\"https://cdn.ngrok.com/static/css/error.css\">\n",
            "    <noscript>The endpoint d8b71696a6f6.ngrok-free.app is offline. (ERR_NGROK_3200)</noscript>\n",
            "    <script id=\"script\" src=\"https://cdn.ngrok.com/static/js/error.js\" type=\"text/javascript\"></script>\n",
            "  </head>\n",
            "  <body class=\"h-full\" id=\"ngrok\">\n",
            "    <div id=\"root\" data-payload=\"eyJjZG5CYXNlIjoiaHR0cHM6Ly9jZG4ubmdyb2suY29tLyIsImNvZGUiOiIzMjAwIiwibWVzc2FnZSI6IlRoZSBlbmRwb2ludCBkOGI3MTY5NmE2ZjYubmdyb2stZnJlZS5hcHAgaXMgb2ZmbGluZS4iLCJ0aXRsZSI6Ik5vdCBGb3VuZCJ9\"></div>\n",
            "  </body>\n",
            "</html>\n",
            "\n"
          ]
        }
      ]
    },
    {
      "cell_type": "code",
      "source": [
        "# 1️ Mount Google Drive\n",
        "from google.colab import drive\n",
        "drive.mount('/content/drive')\n",
        "\n",
        "# 2️ Ask user for ngrok token (only if not already saved)\n",
        "import os\n",
        "\n",
        "token_file = \"/content/drive/MyDrive/ngrok_token.txt\"\n",
        "if not os.path.exists(token_file):\n",
        "    token = input(\"Enter your ngrok token: \").strip()\n",
        "    with open(token_file, \"w\") as f:\n",
        "        f.write(token)\n",
        "    print(f\" Token saved to {token_file}\")\n",
        "else:\n",
        "    with open(token_file) as f:\n",
        "        token = f.read().strip()\n",
        "    print(f\" Token loaded from {token_file}\")\n",
        "\n",
        "# 3️ Just set auth token for later use\n",
        "from pyngrok import ngrok\n",
        "ngrok.set_auth_token(token)\n",
        "\n",
        "# 4️ Do NOT start a new tunnel here, only print instructions\n",
        "print(\" Ngrok token set. The tunnel will be started in the final cell.\")\n"
      ],
      "metadata": {
        "colab": {
          "base_uri": "https://localhost:8080/"
        },
        "id": "-rZn4oBtV9dq",
        "outputId": "38d12f5b-58a1-47f0-f720-b13b2d0c6d33"
      },
      "execution_count": 2,
      "outputs": [
        {
          "output_type": "stream",
          "name": "stdout",
          "text": [
            "Drive already mounted at /content/drive; to attempt to forcibly remount, call drive.mount(\"/content/drive\", force_remount=True).\n",
            " Token loaded from /content/drive/MyDrive/ngrok_token.txt\n",
            " Ngrok token set. The tunnel will be started in the final cell.\n"
          ]
        }
      ]
    },
    {
      "cell_type": "code",
      "source": [
        "from pyngrok import ngrok\n",
        "\n",
        "# Start tunnel only here\n",
        "public_url = ngrok.connect(5000).public_url\n",
        "print(\" ngrok tunnel URL:\", public_url + \"/interface\")\n"
      ],
      "metadata": {
        "colab": {
          "base_uri": "https://localhost:8080/"
        },
        "id": "CpQdGAfC9VqJ",
        "outputId": "ce947ec3-93f5-4eb4-fb73-04075c7271e7"
      },
      "execution_count": 4,
      "outputs": [
        {
          "output_type": "stream",
          "name": "stdout",
          "text": [
            " ngrok tunnel URL: https://ab302e345492.ngrok-free.app/interface\n"
          ]
        }
      ]
    },
    {
      "cell_type": "code",
      "source": [
        "import requests\n",
        "\n",
        "url = \"https://d734e82445c1.ngrok-free.app\"\n",
        "try:\n",
        "    r = requests.get(url)\n",
        "    print(\"Status:\", r.status_code)\n",
        "    print(\"Response:\", r.text)\n",
        "except Exception as e:\n",
        "    print(\"Error:\", e)\n"
      ],
      "metadata": {
        "colab": {
          "base_uri": "https://localhost:8080/"
        },
        "id": "jtcTSpB6X84k",
        "outputId": "48b9884a-674b-41b5-c73d-6ab9e033afd8"
      },
      "execution_count": 5,
      "outputs": [
        {
          "output_type": "stream",
          "name": "stdout",
          "text": [
            "Status: 404\n",
            "Response: <!DOCTYPE html>\n",
            "<html class=\"h-full\" lang=\"en-US\" dir=\"ltr\">\n",
            "  <head>\n",
            "    <link rel=\"preload\" href=\"https://cdn.ngrok.com/static/fonts/euclid-square/EuclidSquare-Regular-WebS.woff\" as=\"font\" type=\"font/woff\" crossorigin=\"anonymous\" />\n",
            "    <link rel=\"preload\" href=\"https://cdn.ngrok.com/static/fonts/euclid-square/EuclidSquare-RegularItalic-WebS.woff\" as=\"font\" type=\"font/woff\" crossorigin=\"anonymous\" />\n",
            "    <link rel=\"preload\" href=\"https://cdn.ngrok.com/static/fonts/euclid-square/EuclidSquare-Medium-WebS.woff\" as=\"font\" type=\"font/woff\" crossorigin=\"anonymous\" />\n",
            "    <link rel=\"preload\" href=\"https://cdn.ngrok.com/static/fonts/euclid-square/EuclidSquare-Semibold-WebS.woff\" as=\"font\" type=\"font/woff\" crossorigin=\"anonymous\" />\n",
            "    <link rel=\"preload\" href=\"https://cdn.ngrok.com/static/fonts/euclid-square/EuclidSquare-MediumItalic-WebS.woff\" as=\"font\" type=\"font/woff\" crossorigin=\"anonymous\" />\n",
            "    <link rel=\"preload\" href=\"https://cdn.ngrok.com/static/fonts/ibm-plex-mono/IBMPlexMono-Text.woff\" as=\"font\" type=\"font/woff\" crossorigin=\"anonymous\" />\n",
            "    <link rel=\"preload\" href=\"https://cdn.ngrok.com/static/fonts/ibm-plex-mono/IBMPlexMono-TextItalic.woff\" as=\"font\" type=\"font/woff\" crossorigin=\"anonymous\" />\n",
            "    <link rel=\"preload\" href=\"https://cdn.ngrok.com/static/fonts/ibm-plex-mono/IBMPlexMono-SemiBold.woff\" as=\"font\" type=\"font/woff\" crossorigin=\"anonymous\" />\n",
            "    <link rel=\"preload\" href=\"https://cdn.ngrok.com/static/fonts/ibm-plex-mono/IBMPlexMono-SemiBoldItalic.woff\" as=\"font\" type=\"font/woff\" crossorigin=\"anonymous\" />\n",
            "    <meta charset=\"utf-8\">\n",
            "    <meta name=\"author\" content=\"ngrok\">\n",
            "    <meta name=\"description\" content=\"ngrok is the fastest way to put anything on the internet with a single command.\">\n",
            "    <meta name=\"robots\" content=\"noindex, nofollow\">\n",
            "    <meta name=\"viewport\" content=\"width=device-width, initial-scale=1\">\n",
            "    <link id=\"style\" rel=\"stylesheet\" href=\"https://cdn.ngrok.com/static/css/error.css\">\n",
            "    <noscript>The endpoint d734e82445c1.ngrok-free.app is offline. (ERR_NGROK_3200)</noscript>\n",
            "    <script id=\"script\" src=\"https://cdn.ngrok.com/static/js/error.js\" type=\"text/javascript\"></script>\n",
            "  </head>\n",
            "  <body class=\"h-full\" id=\"ngrok\">\n",
            "    <div id=\"root\" data-payload=\"eyJjZG5CYXNlIjoiaHR0cHM6Ly9jZG4ubmdyb2suY29tLyIsImNvZGUiOiIzMjAwIiwibWVzc2FnZSI6IlRoZSBlbmRwb2ludCBkNzM0ZTgyNDQ1YzEubmdyb2stZnJlZS5hcHAgaXMgb2ZmbGluZS4iLCJ0aXRsZSI6Ik5vdCBGb3VuZCJ9\"></div>\n",
            "  </body>\n",
            "</html>\n",
            "\n"
          ]
        }
      ]
    }
  ]
}